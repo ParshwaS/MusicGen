{
 "cells": [
  {
   "cell_type": "code",
   "execution_count": 2,
   "id": "53e9300e-6211-4a6d-9e4c-01b81eef9e2f",
   "metadata": {},
   "outputs": [],
   "source": [
    "import pypianoroll\n",
    "import pandas as pd\n",
    "import os"
   ]
  },
  {
   "cell_type": "code",
   "execution_count": 3,
   "id": "6c530586-1b01-4793-8560-5f6aefcf38f1",
   "metadata": {},
   "outputs": [],
   "source": [
    "file = pypianoroll.load(\"./dataset/lpd_5/lpd_5_cleansed/B/B/C/TRBBCJH128F930C970/9b26da87aff1395e17e10610a6dbff78.npz\")"
   ]
  },
  {
   "cell_type": "code",
   "execution_count": 4,
   "id": "7de9cefd-5204-4cfd-a568-3577babcce2a",
   "metadata": {},
   "outputs": [],
   "source": [
    "file.write(\"test.midi\")"
   ]
  },
  {
   "cell_type": "code",
   "execution_count": 3,
   "id": "be3328fe-9084-4653-93f1-8902c165da06",
   "metadata": {},
   "outputs": [
    {
     "name": "stderr",
     "output_type": "stream",
     "text": [
      "C:\\Users\\parsh\\AppData\\Local\\Temp\\ipykernel_21240\\603170510.py:1: ParserWarning: Falling back to the 'python' engine because the 'c' engine does not support regex separators (separators > 1 char and different from '\\s+' are interpreted as regex); you can avoid this warning by specifying engine='python'.\n",
      "  cleansed_ids = pd.read_csv(os.path.join('dataset', 'cleansed_ids.txt'), delimiter = '    ', header = None)\n"
     ]
    }
   ],
   "source": [
    "cleansed_ids = pd.read_csv(os.path.join('dataset', 'cleansed_ids.txt'), delimiter = '    ', header = None)\n",
    "lpd_to_msd_ids = {a:b for a, b in zip(cleansed_ids[0], cleansed_ids[1])}\n",
    "msd_to_lpd_ids = {a:b for a, b in zip(cleansed_ids[1], cleansed_ids[0])}"
   ]
  },
  {
   "cell_type": "code",
   "execution_count": null,
   "id": "f6989a0b-5667-49a7-afd3-0dfb11604357",
   "metadata": {},
   "outputs": [],
   "source": []
  }
 ],
 "metadata": {
  "kernelspec": {
   "display_name": "Python 3 (ipykernel)",
   "language": "python",
   "name": "python3"
  },
  "language_info": {
   "codemirror_mode": {
    "name": "ipython",
    "version": 3
   },
   "file_extension": ".py",
   "mimetype": "text/x-python",
   "name": "python",
   "nbconvert_exporter": "python",
   "pygments_lexer": "ipython3",
   "version": "3.9.18"
  }
 },
 "nbformat": 4,
 "nbformat_minor": 5
}
